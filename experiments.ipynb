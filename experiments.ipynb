{
 "cells": [
  {
   "cell_type": "code",
   "execution_count": 25,
   "id": "76e6e43f",
   "metadata": {},
   "outputs": [
    {
     "name": "stdout",
     "output_type": "stream",
     "text": [
      "The autoreload extension is already loaded. To reload it, use:\n",
      "  %reload_ext autoreload\n"
     ]
    }
   ],
   "source": [
    "%load_ext autoreload\n",
    "%autoreload 2"
   ]
  },
  {
   "cell_type": "code",
   "execution_count": 26,
   "id": "1cd1ff39",
   "metadata": {},
   "outputs": [],
   "source": [
    "import pickle\n",
    "import numpy as np\n",
    "import matplotlib.pyplot as plt\n",
    "\n",
    "from wordle import *\n",
    "from tqdm import tqdm"
   ]
  },
  {
   "cell_type": "markdown",
   "id": "5fe51b3a",
   "metadata": {},
   "source": [
    "# comparing \"AEROS\", \"SOARE\", \"AROSE\""
   ]
  },
  {
   "cell_type": "code",
   "execution_count": 4,
   "id": "a9255c5f",
   "metadata": {},
   "outputs": [
    {
     "name": "stderr",
     "output_type": "stream",
     "text": [
      "100%|██████████| 12972/12972 [00:20<00:00, 645.57it/s]\n",
      "100%|██████████| 12972/12972 [00:19<00:00, 671.00it/s] \n",
      "100%|██████████| 12972/12972 [00:20<00:00, 619.14it/s]\n"
     ]
    }
   ],
   "source": [
    "m = []\n",
    "guess = 'soare'\n",
    "\n",
    "for guess in ['aeros', 'soare', 'arose']:\n",
    "    m.append([])\n",
    "    for answer in tqdm(all_words):\n",
    "        pws = test_guess(all_words, answer, guess)\n",
    "        l = len(pws)\n",
    "\n",
    "        m[-1].append(l)"
   ]
  },
  {
   "cell_type": "code",
   "execution_count": 5,
   "id": "44b6dbc1",
   "metadata": {},
   "outputs": [
    {
     "name": "stdout",
     "output_type": "stream",
     "text": [
      "801 769 867\n",
      "1 1 1\n",
      "309.73342584027137 303.8308664816528 382.0536540240518\n"
     ]
    }
   ],
   "source": [
    "print(*[max(a) for a in m])\n",
    "print(*[min(a) for a in m])\n",
    "print(*[sum(a)/len(a) for a in m])"
   ]
  },
  {
   "cell_type": "code",
   "execution_count": 6,
   "id": "c65d1505",
   "metadata": {},
   "outputs": [
    {
     "data": {
      "text/plain": [
       "<matplotlib.legend.Legend at 0x7f130ec9c710>"
      ]
     },
     "execution_count": 6,
     "metadata": {},
     "output_type": "execute_result"
    },
    {
     "data": {
      "image/png": "[encoded data removed]",
      "text/plain": [
       "<Figure size 432x288 with 1 Axes>"
      ]
     },
     "metadata": {
      "needs_background": "light"
     },
     "output_type": "display_data"
    }
   ],
   "source": [
    "plt.hist(m[0], label='aeros', bins=50, alpha=0.5)\n",
    "plt.hist(m[1], label='soare', bins=50, alpha=0.5)\n",
    "plt.hist(m[2], label='arose', bins=50, alpha=0.5)\n",
    "\n",
    "plt.xlabel('possible_words')\n",
    "plt.ylabel('frequency')\n",
    "plt.legend()"
   ]
  },
  {
   "cell_type": "markdown",
   "id": "ae125d3e",
   "metadata": {},
   "source": [
    "# Getting Optimal Guess"
   ]
  },
  {
   "cell_type": "markdown",
   "id": "ea38925d",
   "metadata": {},
   "source": [
    "### SOARE-UNTIL-DUMPY start (Heeyoung's idea)"
   ]
  },
  {
   "cell_type": "code",
   "execution_count": 39,
   "id": "cb9247ef",
   "metadata": {
    "scrolled": false
   },
   "outputs": [
    {
     "name": "stderr",
     "output_type": "stream",
     "text": [
      "100%|██████████| 12972/12972 [00:33<00:00, 384.58it/s]\n"
     ]
    }
   ],
   "source": [
    "m2 = []\n",
    "\n",
    "for answer in tqdm(all_words):\n",
    "    pw = test_guess(all_words, answer, 'soare')\n",
    "    pw = test_guess(pw, answer, 'until')\n",
    "    pw = test_guess(pw, answer, 'dumpy')\n",
    "    \n",
    "    c = 3\n",
    "    \n",
    "    while len(pw) != 1:\n",
    "        c += 1\n",
    "        optimal_guess = get_optimal_guess(pw)\n",
    "        pw = test_guess(pw, answer, optimal_guess)\n",
    "\n",
    "    m2.append(c)"
   ]
  },
  {
   "cell_type": "code",
   "execution_count": 40,
   "id": "b383345a",
   "metadata": {},
   "outputs": [
    {
     "name": "stdout",
     "output_type": "stream",
     "text": [
      "11\n",
      "3\n",
      "4.10800185013876\n"
     ]
    }
   ],
   "source": [
    "print(max(m2))\n",
    "print(min(m2))\n",
    "print(sum(m2)/len(m2))"
   ]
  },
  {
   "cell_type": "code",
   "execution_count": 41,
   "id": "eb493732",
   "metadata": {
    "scrolled": false
   },
   "outputs": [
    {
     "data": {
      "text/plain": [
       "Text(0, 0.5, 'frequency')"
      ]
     },
     "execution_count": 41,
     "metadata": {},
     "output_type": "execute_result"
    },
    {
     "data": {
      "image/png": "[encoded data removed]",
      "text/plain": [
       "<Figure size 432x288 with 1 Axes>"
      ]
     },
     "metadata": {
      "needs_background": "light"
     },
     "output_type": "display_data"
    }
   ],
   "source": [
    "plt.hist(m2, bins=50)\n",
    "plt.xlabel('number of guess')\n",
    "plt.ylabel('frequency')"
   ]
  },
  {
   "cell_type": "code",
   "execution_count": 44,
   "id": "cf81d170",
   "metadata": {},
   "outputs": [
    {
     "data": {
      "text/plain": [
       "0.9652328091273512"
      ]
     },
     "execution_count": 44,
     "metadata": {},
     "output_type": "execute_result"
    }
   ],
   "source": [
    "qualified = [i for i in m2 if i < 7]\n",
    "\n",
    "len(qualified)/len(m2)"
   ]
  },
  {
   "cell_type": "markdown",
   "id": "8079eb7d",
   "metadata": {},
   "source": [
    "remark: this algorithm can solve over 96 percents of wordle problems within 6 guesses."
   ]
  },
  {
   "cell_type": "markdown",
   "id": "04a6ff30",
   "metadata": {},
   "source": [
    "### SOARE-UNTIL start\n",
    "\n",
    "It lets the algorithm find its own optimal third guess greedily."
   ]
  },
  {
   "cell_type": "code",
   "execution_count": 46,
   "id": "4d203e4d",
   "metadata": {},
   "outputs": [
    {
     "name": "stderr",
     "output_type": "stream",
     "text": [
      "100%|██████████| 12972/12972 [06:19<00:00, 34.14it/s] \n"
     ]
    }
   ],
   "source": [
    "m3 = []\n",
    "\n",
    "for answer in tqdm(all_words):\n",
    "    pw = test_guess(all_words, answer, 'soare')\n",
    "    pw = test_guess(pw, answer, 'until')\n",
    "    \n",
    "    c = 2\n",
    "    \n",
    "    while len(pw) != 1:\n",
    "        c += 1\n",
    "        optimal_guess = get_optimal_guess(pw)\n",
    "        pw = test_guess(pw, answer, optimal_guess)\n",
    "\n",
    "    m3.append(c)"
   ]
  },
  {
   "cell_type": "code",
   "execution_count": 47,
   "id": "57402175",
   "metadata": {},
   "outputs": [
    {
     "name": "stdout",
     "output_type": "stream",
     "text": [
      "16\n",
      "2\n",
      "3.9953746530989824\n"
     ]
    }
   ],
   "source": [
    "print(max(m3))\n",
    "print(min(m3))\n",
    "print(sum(m3)/len(m3))"
   ]
  },
  {
   "cell_type": "code",
   "execution_count": 48,
   "id": "0118121f",
   "metadata": {},
   "outputs": [
    {
     "data": {
      "text/plain": [
       "Text(0, 0.5, 'frequency')"
      ]
     },
     "execution_count": 48,
     "metadata": {},
     "output_type": "execute_result"
    },
    {
     "data": {
      "image/png": "[encoded data removed]",
      "text/plain": [
       "<Figure size 432x288 with 1 Axes>"
      ]
     },
     "metadata": {
      "needs_background": "light"
     },
     "output_type": "display_data"
    }
   ],
   "source": [
    "plt.hist(m3, bins=50)\n",
    "plt.xlabel('number of guess')\n",
    "plt.ylabel('frequency')"
   ]
  },
  {
   "cell_type": "code",
   "execution_count": 49,
   "id": "63aebb91",
   "metadata": {},
   "outputs": [
    {
     "data": {
      "text/plain": [
       "0.9396392229417206"
      ]
     },
     "execution_count": 49,
     "metadata": {},
     "output_type": "execute_result"
    }
   ],
   "source": [
    "qualified = [i for i in m3 if i < 7]\n",
    "\n",
    "len(qualified)/len(m3)"
   ]
  }
 ],
 "metadata": {
  "kernelspec": {
   "display_name": "Python 3",
   "language": "python",
   "name": "python3"
  },
  "language_info": {
   "codemirror_mode": {
    "name": "ipython",
    "version": 3
   },
   "file_extension": ".py",
   "mimetype": "text/x-python",
   "name": "python",
   "nbconvert_exporter": "python",
   "pygments_lexer": "ipython3",
   "version": "3.6.13"
  }
 },
 "nbformat": 4,
 "nbformat_minor": 5
}
