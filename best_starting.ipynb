{
 "cells": [
  {
   "cell_type": "code",
   "execution_count": 5,
   "metadata": {},
   "outputs": [],
   "source": [
    "import wordle"
   ]
  },
  {
   "cell_type": "code",
   "execution_count": 2,
   "metadata": {},
   "outputs": [
    {
     "name": "stderr",
     "output_type": "stream",
     "text": [
      "                                                                                   \r"
     ]
    },
    {
     "data": {
      "text/plain": [
       "'serai'"
      ]
     },
     "execution_count": 2,
     "metadata": {},
     "output_type": "execute_result"
    }
   ],
   "source": [
    "optimal = wordle.get_optimal_guess(wordle.WORDS, metric='max', pbar=True)\n",
    "\n",
    "print(optimal)"
   ]
  },
  {
   "cell_type": "code",
   "execution_count": 6,
   "metadata": {},
   "outputs": [
    {
     "ename": "AssertionError",
     "evalue": "",
     "output_type": "error",
     "traceback": [
      "\u001b[0;31m---------------------------------------------------------------------------\u001b[0m",
      "\u001b[0;31mAssertionError\u001b[0m                            Traceback (most recent call last)",
      "\u001b[1;32m/home/jun02/vol/wordle/best_starting.ipynb Cell 3\u001b[0m in \u001b[0;36m<cell line: 1>\u001b[0;34m()\u001b[0m\n\u001b[0;32m----> <a href='vscode-notebook-cell://ssh-remote%2Bgcloud-ga/home/jun02/vol/wordle/best_starting.ipynb#W2sdnNjb2RlLXJlbW90ZQ%3D%3D?line=0'>1</a>\u001b[0m wordle\u001b[39m.\u001b[39;49mget_optimal_guess(wordle\u001b[39m.\u001b[39;49mWORDS, metric\u001b[39m=\u001b[39;49m\u001b[39m'\u001b[39;49m\u001b[39mmean\u001b[39;49m\u001b[39m'\u001b[39;49m, pbar\u001b[39m=\u001b[39;49m\u001b[39mTrue\u001b[39;49;00m)\n",
      "File \u001b[0;32m~/vol/wordle/wordle.py:48\u001b[0m, in \u001b[0;36mget_optimal_guess\u001b[0;34m(words, metric, hard, pbar)\u001b[0m\n\u001b[1;32m     47\u001b[0m \u001b[39mdef\u001b[39;00m \u001b[39mget_optimal_guess\u001b[39m(words, metric\u001b[39m=\u001b[39m\u001b[39m'\u001b[39m\u001b[39mmax\u001b[39m\u001b[39m'\u001b[39m, hard\u001b[39m=\u001b[39m\u001b[39mFalse\u001b[39;00m ,pbar\u001b[39m=\u001b[39m\u001b[39mFalse\u001b[39;00m):\n\u001b[0;32m---> 48\u001b[0m     \u001b[39massert\u001b[39;00m metric \u001b[39min\u001b[39;00m _METRICS\n\u001b[1;32m     50\u001b[0m     \u001b[39mif\u001b[39;00m hard:\n\u001b[1;32m     51\u001b[0m         guesses \u001b[39m=\u001b[39m words\n",
      "\u001b[0;31mAssertionError\u001b[0m: "
     ]
    }
   ],
   "source": [
    "optimal = wordle.get_optimal_guess(wordle.WORDS, metric='mean', pbar=True)\n",
    "\n",
    "print(optimal)"
   ]
  }
 ],
 "metadata": {
  "kernelspec": {
   "display_name": "Python 3.8.13 ('ga': conda)",
   "language": "python",
   "name": "python3"
  },
  "language_info": {
   "codemirror_mode": {
    "name": "ipython",
    "version": 3
   },
   "file_extension": ".py",
   "mimetype": "text/x-python",
   "name": "python",
   "nbconvert_exporter": "python",
   "pygments_lexer": "ipython3",
   "version": "3.8.13"
  },
  "orig_nbformat": 4,
  "vscode": {
   "interpreter": {
    "hash": "fa9da0cfcb16e0e35d979dfaeff0e7ad652a62ecccf51ff1013151ba2bf9c281"
   }
  }
 },
 "nbformat": 4,
 "nbformat_minor": 2
}
