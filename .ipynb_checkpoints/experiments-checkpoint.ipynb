{
 "cells": [
  {
   "cell_type": "code",
   "execution_count": 3,
   "id": "76e6e43f",
   "metadata": {},
   "outputs": [],
   "source": [
    "%load_ext autoreload\n",
    "%autoreload 2"
   ]
  },
  {
   "cell_type": "code",
   "execution_count": 4,
   "id": "1cd1ff39",
   "metadata": {},
   "outputs": [],
   "source": [
    "import pickle\n",
    "import numpy as np\n",
    "import matplotlib.pyplot as plt\n",
    "\n",
    "from wordle import *\n",
    "#from tqdm import tqdm"
   ]
  },
  {
   "cell_type": "markdown",
   "id": "80dfc737",
   "metadata": {},
   "source": [
    "# What's the best starting word?"
   ]
  },
  {
   "cell_type": "code",
   "execution_count": 16,
   "id": "659ba89d",
   "metadata": {},
   "outputs": [
    {
     "name": "stderr",
     "output_type": "stream",
     "text": [
      "searching for optimal guess:   0%|          | 35/12972 [00:00<05:24, 39.81it/s]"
     ]
    },
    {
     "name": "stdout",
     "output_type": "stream",
     "text": [
      "react\n"
     ]
    },
    {
     "name": "stderr",
     "output_type": "stream",
     "text": [
      "searching for optimal guess:   0%|          | 49/12972 [00:01<05:24, 39.81it/s]"
     ]
    },
    {
     "name": "stdout",
     "output_type": "stream",
     "text": [
      "sower\n"
     ]
    },
    {
     "name": "stderr",
     "output_type": "stream",
     "text": [
      "searching for optimal guess:   1%|▏         | 169/12972 [00:04<05:38, 37.84it/s]"
     ]
    },
    {
     "name": "stdout",
     "output_type": "stream",
     "text": [
      "store\n"
     ]
    },
    {
     "name": "stderr",
     "output_type": "stream",
     "text": [
      "searching for optimal guess:   2%|▏         | 213/12972 [00:05<05:46, 36.82it/s]"
     ]
    },
    {
     "name": "stdout",
     "output_type": "stream",
     "text": [
      "solar\n"
     ]
    },
    {
     "name": "stderr",
     "output_type": "stream",
     "text": [
      "searching for optimal guess:   2%|▏         | 281/12972 [00:07<05:36, 37.74it/s]"
     ]
    },
    {
     "name": "stdout",
     "output_type": "stream",
     "text": [
      "saute\n"
     ]
    },
    {
     "name": "stderr",
     "output_type": "stream",
     "text": [
      "searching for optimal guess:   4%|▍         | 565/12972 [00:16<05:34, 37.13it/s]"
     ]
    },
    {
     "name": "stdout",
     "output_type": "stream",
     "text": [
      "arise\n"
     ]
    },
    {
     "name": "stderr",
     "output_type": "stream",
     "text": [
      "searching for optimal guess:   6%|▌         | 729/12972 [00:20<05:39, 36.11it/s]"
     ]
    },
    {
     "name": "stdout",
     "output_type": "stream",
     "text": [
      "snare\n"
     ]
    },
    {
     "name": "stderr",
     "output_type": "stream",
     "text": [
      "searching for optimal guess:  12%|█▏        | 1613/12972 [00:46<05:19, 35.50it/s]"
     ]
    },
    {
     "name": "stdout",
     "output_type": "stream",
     "text": [
      "saner\n"
     ]
    },
    {
     "name": "stderr",
     "output_type": "stream",
     "text": [
      "searching for optimal guess:  19%|█▉        | 2433/12972 [01:13<04:51, 36.20it/s]"
     ]
    },
    {
     "name": "stdout",
     "output_type": "stream",
     "text": [
      "aeros\n"
     ]
    },
    {
     "name": "stderr",
     "output_type": "stream",
     "text": [
      "searching for optimal guess:  56%|█████▋    | 7318/12972 [03:59<02:33, 36.90it/s]  "
     ]
    },
    {
     "name": "stdout",
     "output_type": "stream",
     "text": [
      "lares\n"
     ]
    },
    {
     "name": "stderr",
     "output_type": "stream",
     "text": [
      "                                                                                  \r"
     ]
    },
    {
     "data": {
      "text/plain": [
       "'lares'"
      ]
     },
     "execution_count": 16,
     "metadata": {},
     "output_type": "execute_result"
    }
   ],
   "source": [
    "get_optimal_guess(all_words, metric='var',pbar=True)"
   ]
  },
  {
   "cell_type": "markdown",
   "id": "071c04df",
   "metadata": {},
   "source": [
    "# Find out any word's performance as a starting word"
   ]
  },
  {
   "cell_type": "code",
   "execution_count": 10,
   "id": "8f6d69e4",
   "metadata": {},
   "outputs": [],
   "source": [
    "guess = 'xylyl'\n",
    "\n",
    "results_freq = {r:0 for r in all_results}\n",
    "#hints = {r:get_hints(guess, r) for r in all_results}\n",
    "\n",
    "for answer in all_words:\n",
    "    result = get_result(answer, guess)\n",
    "    results_freq[result] += 1\n",
    "\n",
    "m = results_freq.values()"
   ]
  },
  {
   "cell_type": "code",
   "execution_count": 12,
   "id": "fca89fd2",
   "metadata": {},
   "outputs": [
    {
     "name": "stdout",
     "output_type": "stream",
     "text": [
      "max: 8087\n",
      "mean: 5401.189793401171\n"
     ]
    },
    {
     "data": {
      "image/png": "[encoded data removed]",
      "text/plain": [
       "<Figure size 432x288 with 1 Axes>"
      ]
     },
     "metadata": {
      "needs_background": "light"
     },
     "output_type": "display_data"
    }
   ],
   "source": [
    "print('max:', max(m))\n",
    "print('mean:', sum(i**2 for i in m)/len(all_words))\n",
    "\n",
    "plt.hist(m)\n",
    "plt.show()"
   ]
  },
  {
   "cell_type": "markdown",
   "id": "5fe51b3a",
   "metadata": {},
   "source": [
    "# Comparing \"AEROS\", \"SOARE\", \"AROSE\"\n",
    "\n",
    "This is an old, not optimized code, thus slower"
   ]
  },
  {
   "cell_type": "code",
   "execution_count": 56,
   "id": "a9255c5f",
   "metadata": {},
   "outputs": [
    {
     "name": "stderr",
     "output_type": "stream",
     "text": [
      "100%|████████████████████████████████████████████████████████████████████████████| 12972/12972 [00:18<00:00, 686.59it/s]\n",
      "100%|████████████████████████████████████████████████████████████████████████████| 12972/12972 [00:18<00:00, 717.91it/s]\n",
      "100%|████████████████████████████████████████████████████████████████████████████| 12972/12972 [00:20<00:00, 636.61it/s]\n"
     ]
    }
   ],
   "source": [
    "m = []\n",
    "\n",
    "for guess in ['aeros', 'soare', 'arose']:\n",
    "    m.append([])\n",
    "    for answer in tqdm(all_words):\n",
    "        pws = test_guess(all_words, answer, guess)\n",
    "        l = len(pws)\n",
    "\n",
    "        m[-1].append(l)"
   ]
  },
  {
   "cell_type": "code",
   "execution_count": 50,
   "id": "44b6dbc1",
   "metadata": {},
   "outputs": [
    {
     "name": "stdout",
     "output_type": "stream",
     "text": [
      "801 769 867 697 832\n",
      "1 1 1 1 1\n",
      "309.73342584027137 303.8308664816528 382.0536540240518 315.1333641689793 288.7382053654024\n"
     ]
    }
   ],
   "source": [
    "print(*[max(a) for a in m])\n",
    "print(*[min(a) for a in m])\n",
    "print(*[sum(a)/len(a) for a in m])"
   ]
  },
  {
   "cell_type": "code",
   "execution_count": 6,
   "id": "c65d1505",
   "metadata": {},
   "outputs": [
    {
     "data": {
      "text/plain": [
       "<matplotlib.legend.Legend at 0x7f130ec9c710>"
      ]
     },
     "execution_count": 6,
     "metadata": {},
     "output_type": "execute_result"
    },
    {
     "data": {
      "image/png": "[encoded data removed]",
      "text/plain": [
       "<Figure size 432x288 with 1 Axes>"
      ]
     },
     "metadata": {
      "needs_background": "light"
     },
     "output_type": "display_data"
    }
   ],
   "source": [
    "plt.hist(m[0], label='aeros', bins=50, alpha=0.5)\n",
    "plt.hist(m[1], label='soare', bins=50, alpha=0.5)\n",
    "plt.hist(m[2], label='arose', bins=50, alpha=0.5)\n",
    "\n",
    "plt.xlabel('possible_words')\n",
    "plt.ylabel('frequency')\n",
    "plt.legend()"
   ]
  },
  {
   "cell_type": "markdown",
   "id": "ae125d3e",
   "metadata": {},
   "source": [
    "# Let's break Wordle"
   ]
  },
  {
   "cell_type": "markdown",
   "id": "ea38925d",
   "metadata": {},
   "source": [
    "### Using 'mean' metric"
   ]
  },
  {
   "cell_type": "code",
   "execution_count": 23,
   "id": "6bae23c8",
   "metadata": {},
   "outputs": [],
   "source": [
    "with open('data/optimal_guess_after_lares.bin', 'rb') as f:\n",
    "    optimal_guess_after_lares = pickle.load(f)\n",
    "\n",
    "with open('data/possible_words_after_lares.bin', 'rb') as f:\n",
    "    possible_words_after_lares = pickle.load(f)"
   ]
  },
  {
   "cell_type": "code",
   "execution_count": 25,
   "id": "4f93121c",
   "metadata": {},
   "outputs": [],
   "source": [
    "possible_results_2_possible_words = {}\n",
    "result_freq = {}"
   ]
  },
  {
   "cell_type": "code",
   "execution_count": 26,
   "id": "27734207",
   "metadata": {},
   "outputs": [
    {
     "name": "stderr",
     "output_type": "stream",
     "text": [
      "100%|██████████| 12972/12972 [00:03<00:00, 3378.82it/s]\n"
     ]
    }
   ],
   "source": [
    "for answer in tqdm(all_words):\n",
    "    result = get_result(answer, 'lares')\n",
    "    \n",
    "    if result in result_freq:\n",
    "        result_freq[result] += 1\n",
    "    \n",
    "    else:\n",
    "        result_freq[result] = 1\n",
    "        possible_results_2_possible_words[result] = get_possible_words_with_result(all_words, 'lares', result)"
   ]
  },
  {
   "cell_type": "code",
   "execution_count": 12,
   "id": "254fbb31",
   "metadata": {
    "scrolled": false
   },
   "outputs": [
    {
     "name": "stdout",
     "output_type": "stream",
     "text": [
      "max: 697\n",
      "mean: 315.1333641689793\n"
     ]
    },
    {
     "data": {
      "image/png": "[encoded data removed]",
      "text/plain": [
       "<Figure size 432x288 with 1 Axes>"
      ]
     },
     "metadata": {
      "needs_background": "light"
     },
     "output_type": "display_data"
    }
   ],
   "source": [
    "m = result_freq.values()\n",
    "\n",
    "print('max:', max(m))\n",
    "print('mean:', sum(i**2 for i in m)/len(all_words))\n",
    "\n",
    "plt.hist(m)\n",
    "plt.show()"
   ]
  },
  {
   "cell_type": "code",
   "execution_count": null,
   "id": "cb9247ef",
   "metadata": {
    "scrolled": false
   },
   "outputs": [
    {
     "name": "stderr",
     "output_type": "stream",
     "text": [
      " 24%|██▍       | 3102/12972 [2:35:12<15:20:35,  5.60s/it]"
     ]
    },
    {
     "name": "stdout",
     "output_type": "stream",
     "text": [
      "bells 7\n"
     ]
    },
    {
     "name": "stderr",
     "output_type": "stream",
     "text": [
      " 28%|██▊       | 3574/12972 [3:04:34<13:53:56,  5.32s/it]"
     ]
    },
    {
     "name": "stdout",
     "output_type": "stream",
     "text": [
      "bumps 7\n"
     ]
    },
    {
     "name": "stderr",
     "output_type": "stream",
     "text": [
      " 40%|████      | 5217/12972 [4:34:48<13:29:42,  6.26s/it]"
     ]
    },
    {
     "name": "stdout",
     "output_type": "stream",
     "text": [
      "fangs 7\n"
     ]
    },
    {
     "name": "stderr",
     "output_type": "stream",
     "text": [
      " 41%|████      | 5259/12972 [4:37:47<14:35:57,  6.81s/it]"
     ]
    },
    {
     "name": "stdout",
     "output_type": "stream",
     "text": [
      "faxes 7\n"
     ]
    },
    {
     "name": "stderr",
     "output_type": "stream",
     "text": [
      " 41%|████      | 5265/12972 [4:38:16<12:19:06,  5.75s/it]"
     ]
    },
    {
     "name": "stdout",
     "output_type": "stream",
     "text": [
      "fazes 7\n"
     ]
    },
    {
     "name": "stderr",
     "output_type": "stream",
     "text": [
      " 44%|████▎     | 5653/12972 [5:05:19<12:49:15,  6.31s/it]"
     ]
    },
    {
     "name": "stdout",
     "output_type": "stream",
     "text": [
      "gages 7\n"
     ]
    },
    {
     "name": "stderr",
     "output_type": "stream",
     "text": [
      " 44%|████▍     | 5742/12972 [5:11:07<12:04:13,  6.01s/it]"
     ]
    },
    {
     "name": "stdout",
     "output_type": "stream",
     "text": [
      "gazes 7\n"
     ]
    },
    {
     "name": "stderr",
     "output_type": "stream",
     "text": [
      " 44%|████▍     | 5769/12972 [5:13:00<7:01:06,  3.51s/it] "
     ]
    }
   ],
   "source": [
    "num_of_guess = []\n",
    "\n",
    "for answer in tqdm(all_words):\n",
    "    guess = 'lares'\n",
    "    result = get_result(answer, guess)\n",
    "    \n",
    "    pw = possible_words_after_lares[result]\n",
    "    guess = optimal_guess_after_lares[result]\n",
    "    \n",
    "    c = 2\n",
    "    while True:\n",
    "        c += 1\n",
    "        pw = get_possible_words_after_guess(pw, answer, guess)\n",
    "        \n",
    "        if len(pw)==1: break\n",
    "        \n",
    "        guess = get_optimal_guess(pw, metric='var')\n",
    "    \n",
    "    if c > 6: print(answer, c)\n",
    "    num_of_guess.append(c)"
   ]
  },
  {
   "cell_type": "code",
   "execution_count": 1,
   "id": "eb493732",
   "metadata": {
    "scrolled": false
   },
   "outputs": [
    {
     "ename": "NameError",
     "evalue": "name 'plt' is not defined",
     "output_type": "error",
     "traceback": [
      "\u001b[0;31m---------------------------------------------------------------------------\u001b[0m",
      "\u001b[0;31mNameError\u001b[0m                                 Traceback (most recent call last)",
      "\u001b[0;32m<ipython-input-1-410e9a01c459>\u001b[0m in \u001b[0;36m<module>\u001b[0;34m\u001b[0m\n\u001b[0;32m----> 1\u001b[0;31m \u001b[0mplt\u001b[0m\u001b[0;34m.\u001b[0m\u001b[0mhist\u001b[0m\u001b[0;34m(\u001b[0m\u001b[0mnum_of_guess\u001b[0m\u001b[0;34m)\u001b[0m\u001b[0;34m\u001b[0m\u001b[0;34m\u001b[0m\u001b[0m\n\u001b[0m\u001b[1;32m      2\u001b[0m \u001b[0mplt\u001b[0m\u001b[0;34m.\u001b[0m\u001b[0mxlabel\u001b[0m\u001b[0;34m(\u001b[0m\u001b[0;34m'number of guess'\u001b[0m\u001b[0;34m)\u001b[0m\u001b[0;34m\u001b[0m\u001b[0;34m\u001b[0m\u001b[0m\n\u001b[1;32m      3\u001b[0m \u001b[0mplt\u001b[0m\u001b[0;34m.\u001b[0m\u001b[0mylabel\u001b[0m\u001b[0;34m(\u001b[0m\u001b[0;34m'frequency'\u001b[0m\u001b[0;34m)\u001b[0m\u001b[0;34m\u001b[0m\u001b[0;34m\u001b[0m\u001b[0m\n",
      "\u001b[0;31mNameError\u001b[0m: name 'plt' is not defined"
     ]
    }
   ],
   "source": [
    "plt.hist(num_of_guess)\n",
    "plt.xlabel('number of guess')\n",
    "plt.ylabel('frequency')"
   ]
  },
  {
   "cell_type": "code",
   "execution_count": 13,
   "id": "9a517bef",
   "metadata": {},
   "outputs": [
    {
     "name": "stdout",
     "output_type": "stream",
     "text": [
      "02200 256\n",
      "00220 296\n",
      "00002 347\n",
      "00000 832\n",
      "02020 219\n",
      "20002 97\n",
      "22000 258\n",
      "21000 123\n",
      "00122 34\n",
      "20010 128\n",
      "01100 104\n",
      "02220 166\n",
      "00010 371\n",
      "00020 571\n",
      "01200 92\n",
      "00222 64\n",
      "00202 85\n",
      "20000 309\n",
      "02022 90\n",
      "01000 400\n",
      "20001 233\n",
      "20020 247\n",
      "02002 168\n",
      "01210 90\n",
      "22200 62\n",
      "00212 48\n",
      "00022 245\n",
      "10010 37\n",
      "20022 66\n",
      "00100 121\n",
      "00102 55\n",
      "00200 300\n",
      "21010 23\n",
      "02201 113\n",
      "02110 9\n",
      "00120 105\n",
      "20202 6\n",
      "22020 124\n",
      "00210 287\n",
      "11010 17\n",
      "02202 57\n",
      "10002 6\n",
      "10000 59\n",
      "02000 453\n",
      "11200 9\n",
      "20012 25\n",
      "01002 115\n",
      "21002 27\n",
      "02102 30\n",
      "00012 96\n",
      "02001 288\n",
      "20200 52\n",
      "20100 13\n",
      "00112 21\n",
      "22100 16\n",
      "01022 29\n",
      "00221 98\n",
      "00201 164\n",
      "02010 35\n",
      "22202 3\n",
      "20210 41\n",
      "11022 1\n",
      "00001 757\n",
      "22002 67\n",
      "02100 80\n",
      "02222 31\n",
      "22022 24\n",
      "02012 11\n",
      "11100 7\n",
      "01020 74\n",
      "00021 286\n",
      "01120 23\n",
      "22001 104\n",
      "10212 2\n",
      "00110 51\n",
      "12000 32\n",
      "10210 17\n",
      "22010 19\n",
      "10220 6\n",
      "01110 28\n",
      "10020 46\n",
      "12020 18\n",
      "01102 11\n",
      "10022 8\n",
      "21020 23\n",
      "20220 22\n",
      "01212 15\n",
      "21200 8\n",
      "11020 8\n",
      "12200 10\n",
      "10100 10\n",
      "11000 36\n",
      "21210 7\n",
      "01010 124\n",
      "01220 25\n",
      "20021 99\n",
      "11210 10\n",
      "02210 23\n",
      "22220 21\n",
      "11120 1\n",
      "12220 5\n",
      "12022 4\n",
      "10001 64\n",
      "21022 9\n",
      "21100 5\n",
      "21012 4\n",
      "22210 7\n",
      "11002 5\n",
      "21120 5\n",
      "01122 6\n",
      "01001 339\n",
      "01222 3\n",
      "20102 1\n",
      "00101 132\n",
      "02120 24\n",
      "01202 10\n",
      "20120 9\n",
      "22120 2\n",
      "02011 20\n",
      "02221 27\n",
      "02021 77\n",
      "22011 7\n",
      "02101 23\n",
      "02111 4\n",
      "02121 3\n",
      "22021 23\n",
      "22201 5\n",
      "22211 1\n",
      "02212 6\n",
      "02211 2\n",
      "21001 75\n",
      "01011 116\n",
      "21021 2\n",
      "21011 13\n",
      "01101 85\n",
      "01111 13\n",
      "01012 21\n",
      "01201 51\n",
      "00011 330\n",
      "00111 43\n",
      "00121 54\n",
      "20011 57\n",
      "20101 18\n",
      "20201 11\n",
      "20110 6\n",
      "00211 54\n",
      "21101 5\n",
      "01121 2\n",
      "21121 1\n",
      "01021 3\n",
      "20121 3\n",
      "11001 24\n",
      "11011 9\n",
      "11221 1\n",
      "11201 1\n",
      "11101 4\n",
      "11110 1\n",
      "11111 1\n",
      "11012 1\n",
      "11212 1\n",
      "12021 8\n",
      "12221 1\n",
      "10011 37\n",
      "10021 18\n",
      "10221 4\n",
      "10110 5\n",
      "10111 4\n",
      "10121 1\n",
      "12201 1\n",
      "10200 5\n",
      "12001 13\n",
      "12101 1\n",
      "10101 4\n",
      "12002 3\n",
      "10201 2\n",
      "12100 2\n",
      "10012 4\n",
      "10120 1\n",
      "12010 2\n",
      "21220 3\n",
      "20211 4\n",
      "01211 10\n",
      "21201 1\n",
      "21211 1\n",
      "22221 1\n",
      "20221 2\n",
      "01112 2\n",
      "02122 5\n",
      "22122 1\n",
      "20212 5\n",
      "22102 2\n",
      "20112 1\n"
     ]
    }
   ],
   "source": [
    "for r in result_freq:\n",
    "    print(r, result_freq[r])"
   ]
  },
  {
   "cell_type": "code",
   "execution_count": 44,
   "id": "cf81d170",
   "metadata": {},
   "outputs": [
    {
     "data": {
      "text/plain": [
       "0.9652328091273512"
      ]
     },
     "execution_count": 44,
     "metadata": {},
     "output_type": "execute_result"
    }
   ],
   "source": [
    "qualified = [i for i in m2 if i < 7]\n",
    "\n",
    "len(qualified)/len(m2)"
   ]
  },
  {
   "cell_type": "code",
   "execution_count": 26,
   "id": "2caaf034",
   "metadata": {},
   "outputs": [
    {
     "data": {
      "text/plain": [
       "{'balsa',\n",
       " 'basal',\n",
       " 'basil',\n",
       " 'nasal',\n",
       " 'palsa',\n",
       " 'palsy',\n",
       " 'sabal',\n",
       " 'sadly',\n",
       " 'salad',\n",
       " 'salal',\n",
       " 'salat',\n",
       " 'salic',\n",
       " 'salix',\n",
       " 'sally',\n",
       " 'salmi',\n",
       " 'salol',\n",
       " 'salon',\n",
       " 'salop',\n",
       " 'salpa',\n",
       " 'salsa',\n",
       " 'salto',\n",
       " 'salty',\n",
       " 'salut',\n",
       " 'salvo',\n",
       " 'saola',\n",
       " 'sault',\n",
       " 'vasal'}"
      ]
     },
     "execution_count": 26,
     "metadata": {},
     "output_type": "execute_result"
    }
   ],
   "source": [
    "get_possible_words_with_result(all_words, 'lares', '21002')"
   ]
  },
  {
   "cell_type": "code",
   "execution_count": 35,
   "id": "b52b229a",
   "metadata": {},
   "outputs": [
    {
     "data": {
      "text/plain": [
       "{'seral'}"
      ]
     },
     "execution_count": 35,
     "metadata": {},
     "output_type": "execute_result"
    }
   ],
   "source": [
    "possible_results_2_possible_words['22122']"
   ]
  },
  {
   "cell_type": "code",
   "execution_count": 36,
   "id": "6b08f340",
   "metadata": {
    "scrolled": true
   },
   "outputs": [
    {
     "name": "stderr",
     "output_type": "stream",
     "text": [
      "searching for optimal guess: 100%|██████████| 12972/12972 [00:08<00:00, 1518.99it/s]\n",
      "searching for optimal guess: 100%|██████████| 12972/12972 [00:09<00:00, 1299.47it/s]\n",
      "searching for optimal guess: 100%|██████████| 12972/12972 [00:12<00:00, 1059.42it/s]\n",
      "searching for optimal guess: 100%|██████████| 12972/12972 [00:27<00:00, 480.17it/s]\n",
      "searching for optimal guess: 100%|██████████| 12972/12972 [00:07<00:00, 1797.76it/s]\n",
      "searching for optimal guess: 100%|██████████| 12972/12972 [00:03<00:00, 3287.43it/s]\n",
      "searching for optimal guess: 100%|██████████| 12972/12972 [00:10<00:00, 1189.63it/s]\n",
      "searching for optimal guess: 100%|██████████| 12972/12972 [00:04<00:00, 2751.79it/s]\n",
      "searching for optimal guess: 100%|██████████| 12972/12972 [00:02<00:00, 5772.20it/s]\n",
      "searching for optimal guess: 100%|██████████| 12972/12972 [00:04<00:00, 2652.69it/s]\n",
      "searching for optimal guess: 100%|██████████| 12972/12972 [00:04<00:00, 3067.11it/s]\n",
      "searching for optimal guess: 100%|██████████| 12972/12972 [00:06<00:00, 2149.95it/s]\n",
      "searching for optimal guess: 100%|██████████| 12972/12972 [00:11<00:00, 1089.58it/s]\n",
      "searching for optimal guess: 100%|██████████| 12972/12972 [00:22<00:00, 586.90it/s]\n",
      "searching for optimal guess: 100%|██████████| 12972/12972 [00:03<00:00, 3413.53it/s]\n",
      "searching for optimal guess: 100%|██████████| 12972/12972 [00:03<00:00, 4266.62it/s]\n",
      "searching for optimal guess: 100%|██████████| 12972/12972 [00:03<00:00, 3574.03it/s]\n",
      "searching for optimal guess: 100%|██████████| 12972/12972 [00:14<00:00, 886.19it/s] \n",
      "searching for optimal guess: 100%|██████████| 12972/12972 [00:03<00:00, 3415.95it/s]\n",
      "searching for optimal guess: 100%|██████████| 12972/12972 [00:12<00:00, 1046.06it/s]\n",
      "searching for optimal guess: 100%|██████████| 12972/12972 [00:07<00:00, 1661.95it/s]\n",
      "searching for optimal guess: 100%|██████████| 12972/12972 [00:08<00:00, 1566.30it/s]\n",
      "searching for optimal guess: 100%|██████████| 12972/12972 [00:06<00:00, 2120.88it/s]\n",
      "searching for optimal guess: 100%|██████████| 12972/12972 [00:03<00:00, 3351.05it/s]\n",
      "searching for optimal guess: 100%|██████████| 12972/12972 [00:03<00:00, 4196.30it/s]\n",
      "searching for optimal guess: 100%|██████████| 12972/12972 [00:02<00:00, 4812.32it/s]\n",
      "searching for optimal guess: 100%|██████████| 12972/12972 [00:08<00:00, 1545.12it/s]\n",
      "searching for optimal guess: 100%|██████████| 12972/12972 [00:02<00:00, 5425.03it/s]\n",
      "searching for optimal guess: 100%|██████████| 12972/12972 [00:03<00:00, 3991.02it/s]\n",
      "searching for optimal guess: 100%|██████████| 12972/12972 [00:12<00:00, 1077.18it/s]\n",
      "searching for optimal guess: 100%|██████████| 12972/12972 [00:02<00:00, 4426.83it/s]\n",
      "searching for optimal guess: 100%|██████████| 12972/12972 [00:10<00:00, 1275.92it/s]\n",
      "searching for optimal guess: 100%|██████████| 12972/12972 [00:01<00:00, 6491.53it/s]\n",
      "searching for optimal guess: 100%|██████████| 12972/12972 [00:04<00:00, 2767.73it/s]\n",
      "searching for optimal guess: 100%|██████████| 12972/12972 [00:01<00:00, 8254.43it/s]\n",
      "searching for optimal guess: 100%|██████████| 12972/12972 [00:04<00:00, 2899.85it/s]\n",
      "searching for optimal guess: 100%|██████████| 12972/12972 [00:01<00:00, 8817.23it/s]\n",
      "searching for optimal guess: 100%|██████████| 12972/12972 [00:05<00:00, 2573.94it/s]\n",
      "searching for optimal guess: 100%|██████████| 12972/12972 [00:19<00:00, 676.67it/s] \n",
      "searching for optimal guess: 100%|██████████| 12972/12972 [00:01<00:00, 7408.53it/s]\n",
      "searching for optimal guess: 100%|██████████| 12972/12972 [00:02<00:00, 4543.40it/s]\n",
      "searching for optimal guess: 100%|██████████| 12972/12972 [00:01<00:00, 8939.14it/s]\n",
      "searching for optimal guess: 100%|██████████| 12972/12972 [00:02<00:00, 4465.99it/s]\n",
      "searching for optimal guess: 100%|██████████| 12972/12972 [00:13<00:00, 942.51it/s]\n",
      "searching for optimal guess: 100%|██████████| 12972/12972 [00:01<00:00, 8446.20it/s]\n",
      "searching for optimal guess: 100%|██████████| 12972/12972 [00:01<00:00, 6525.50it/s]\n",
      "searching for optimal guess: 100%|██████████| 12972/12972 [00:04<00:00, 2906.78it/s]\n",
      "searching for optimal guess: 100%|██████████| 12972/12972 [00:02<00:00, 6348.31it/s]\n",
      "searching for optimal guess: 100%|██████████| 12972/12972 [00:02<00:00, 6074.81it/s]\n",
      "searching for optimal guess: 100%|██████████| 12972/12972 [00:03<00:00, 3275.22it/s]\n",
      "searching for optimal guess: 100%|██████████| 12972/12972 [00:18<00:00, 691.53it/s] \n",
      "searching for optimal guess: 100%|██████████| 12972/12972 [00:02<00:00, 4722.47it/s]\n",
      "searching for optimal guess: 100%|██████████| 12972/12972 [00:01<00:00, 7829.86it/s]\n",
      "searching for optimal guess: 100%|██████████| 12972/12972 [00:01<00:00, 6915.14it/s]\n",
      "searching for optimal guess: 100%|██████████| 12972/12972 [00:01<00:00, 7479.96it/s]\n",
      "searching for optimal guess: 100%|██████████| 12972/12972 [00:02<00:00, 6184.65it/s]\n",
      "searching for optimal guess: 100%|██████████| 12972/12972 [00:04<00:00, 3224.33it/s]\n",
      "searching for optimal guess: 100%|██████████| 12972/12972 [00:05<00:00, 2212.87it/s]\n",
      "searching for optimal guess: 100%|██████████| 12972/12972 [00:02<00:00, 5682.38it/s]\n",
      "searching for optimal guess: 100%|██████████| 12972/12972 [00:01<00:00, 9471.76it/s]\n",
      "searching for optimal guess: 100%|██████████| 12972/12972 [00:02<00:00, 5311.39it/s]\n"
     ]
    },
    {
     "ename": "IndexError",
     "evalue": "list index out of range",
     "output_type": "error",
     "traceback": [
      "\u001b[0;31m---------------------------------------------------------------------------\u001b[0m",
      "\u001b[0;31mIndexError\u001b[0m                                Traceback (most recent call last)",
      "\u001b[0;32m<ipython-input-36-7a23c1e12597>\u001b[0m in \u001b[0;36m<module>\u001b[0;34m\u001b[0m\n\u001b[1;32m      2\u001b[0m \u001b[0;34m\u001b[0m\u001b[0m\n\u001b[1;32m      3\u001b[0m \u001b[0;32mfor\u001b[0m \u001b[0mresult\u001b[0m \u001b[0;32min\u001b[0m \u001b[0mpossible_results_2_possible_words\u001b[0m\u001b[0;34m:\u001b[0m\u001b[0;34m\u001b[0m\u001b[0;34m\u001b[0m\u001b[0m\n\u001b[0;32m----> 4\u001b[0;31m     \u001b[0moptimal_guess\u001b[0m \u001b[0;34m=\u001b[0m \u001b[0mget_optimal_guess\u001b[0m\u001b[0;34m(\u001b[0m\u001b[0mpossible_results_2_possible_words\u001b[0m\u001b[0;34m[\u001b[0m\u001b[0mresult\u001b[0m\u001b[0;34m]\u001b[0m\u001b[0;34m,\u001b[0m \u001b[0mmetric\u001b[0m\u001b[0;34m=\u001b[0m\u001b[0;34m'mean'\u001b[0m\u001b[0;34m,\u001b[0m \u001b[0mpbar\u001b[0m\u001b[0;34m=\u001b[0m\u001b[0;32mTrue\u001b[0m\u001b[0;34m)\u001b[0m\u001b[0;34m\u001b[0m\u001b[0;34m\u001b[0m\u001b[0m\n\u001b[0m\u001b[1;32m      5\u001b[0m \u001b[0;34m\u001b[0m\u001b[0m\n\u001b[1;32m      6\u001b[0m     \u001b[0moptimal_guesses\u001b[0m\u001b[0;34m[\u001b[0m\u001b[0mresult\u001b[0m\u001b[0;34m]\u001b[0m \u001b[0;34m=\u001b[0m \u001b[0moptimal_guess\u001b[0m\u001b[0;34m\u001b[0m\u001b[0;34m\u001b[0m\u001b[0m\n",
      "\u001b[0;32m~/workspace/wordle/wordle.py\u001b[0m in \u001b[0;36mget_optimal_guess\u001b[0;34m(words, metric, pbar)\u001b[0m\n\u001b[1;32m     85\u001b[0m \u001b[0;32mdef\u001b[0m \u001b[0mget_optimal_guess\u001b[0m\u001b[0;34m(\u001b[0m\u001b[0mwords\u001b[0m\u001b[0;34m,\u001b[0m \u001b[0mmetric\u001b[0m\u001b[0;34m=\u001b[0m\u001b[0;34m'max'\u001b[0m\u001b[0;34m,\u001b[0m \u001b[0mpbar\u001b[0m\u001b[0;34m=\u001b[0m\u001b[0;32mFalse\u001b[0m\u001b[0;34m)\u001b[0m\u001b[0;34m:\u001b[0m\u001b[0;34m\u001b[0m\u001b[0;34m\u001b[0m\u001b[0m\n\u001b[1;32m     86\u001b[0m     \u001b[0;32massert\u001b[0m \u001b[0mmetric\u001b[0m \u001b[0;32min\u001b[0m \u001b[0;34m[\u001b[0m\u001b[0;34m'mean'\u001b[0m\u001b[0;34m,\u001b[0m \u001b[0;34m'max'\u001b[0m\u001b[0;34m]\u001b[0m\u001b[0;34m\u001b[0m\u001b[0;34m\u001b[0m\u001b[0m\n\u001b[0;32m---> 87\u001b[0;31m     \u001b[0;32mif\u001b[0m \u001b[0mlen\u001b[0m\u001b[0;34m(\u001b[0m\u001b[0mwords\u001b[0m\u001b[0;34m)\u001b[0m\u001b[0;34m==\u001b[0m\u001b[0;36m1\u001b[0m\u001b[0;34m:\u001b[0m \u001b[0mlist\u001b[0m\u001b[0;34m(\u001b[0m\u001b[0mwords\u001b[0m\u001b[0;34m)\u001b[0m\u001b[0;34m[\u001b[0m\u001b[0;36m1\u001b[0m\u001b[0;34m]\u001b[0m\u001b[0;34m\u001b[0m\u001b[0;34m\u001b[0m\u001b[0m\n\u001b[0m\u001b[1;32m     88\u001b[0m \u001b[0;34m\u001b[0m\u001b[0m\n\u001b[1;32m     89\u001b[0m     \u001b[0moptimal_guess\u001b[0m \u001b[0;34m=\u001b[0m \u001b[0;34m''\u001b[0m\u001b[0;34m\u001b[0m\u001b[0;34m\u001b[0m\u001b[0m\n",
      "\u001b[0;31mIndexError\u001b[0m: list index out of range"
     ]
    }
   ],
   "source": [
    "optimal_guesses = {}\n",
    "\n",
    "for result in possible_results_2_possible_words:\n",
    "    optimal_guess = get_optimal_guess(possible_results_2_possible_words[result], metric='mean', pbar=True)\n",
    "    \n",
    "    optimal_guesses[result] = optimal_guess"
   ]
  },
  {
   "cell_type": "code",
   "execution_count": 37,
   "id": "2675a89f",
   "metadata": {},
   "outputs": [
    {
     "data": {
      "text/plain": [
       "{'02200': 'tronc',\n",
       " '00220': 'droit',\n",
       " '00002': 'point',\n",
       " '00000': 'tonic',\n",
       " '02020': 'meant',\n",
       " '20002': 'thiol',\n",
       " '22000': 'aloin',\n",
       " '21000': 'tilly',\n",
       " '00122': 'house',\n",
       " '20010': 'dolci',\n",
       " '01100': 'dicty',\n",
       " '02220': 'trade',\n",
       " '00010': 'donut',\n",
       " '00020': 'tondi',\n",
       " '01200': 'robin',\n",
       " '00222': 'toise',\n",
       " '00202': 'yourt',\n",
       " '20000': 'piony',\n",
       " '02022': 'staph',\n",
       " '01000': 'minty',\n",
       " '20001': 'poult',\n",
       " '20020': 'toile',\n",
       " '02002': 'hiant',\n",
       " '01210': 'right',\n",
       " '22200': 'tragi',\n",
       " '00212': 'seity',\n",
       " '00022': 'point',\n",
       " '10010': 'myoid',\n",
       " '20022': 'stope',\n",
       " '00100': 'monty',\n",
       " '00102': 'guyot',\n",
       " '00200': 'count',\n",
       " '21010': 'divna',\n",
       " '02201': 'bract',\n",
       " '02110': 'dicta',\n",
       " '00120': 'monie',\n",
       " '20202': 'bloke',\n",
       " '22020': 'plate',\n",
       " '00210': 'poind',\n",
       " '11010': 'kydst',\n",
       " '02202': 'stamp',\n",
       " '10002': 'moult',\n",
       " '10000': 'piony',\n",
       " '02000': 'conia',\n",
       " '11200': 'baiza',\n",
       " '20012': 'spoil',\n",
       " '01002': 'synth',\n",
       " '21002': 'stoai',\n",
       " '02102': 'ducat',\n",
       " '00012': 'stond',\n",
       " '02001': 'stoai',\n",
       " '20200': 'triol',\n",
       " '20100': 'goyim',\n",
       " '00112': 'dowie',\n",
       " '22100': 'rumpo',\n",
       " '01022': 'thump',\n",
       " '00221': 'petri',\n",
       " '00201': 'grout',\n",
       " '02010': 'admin',\n",
       " '22202': 'focal',\n",
       " '20210': 'fluor'}"
      ]
     },
     "execution_count": 37,
     "metadata": {},
     "output_type": "execute_result"
    }
   ],
   "source": [
    "optimal_guesses"
   ]
  },
  {
   "cell_type": "code",
   "execution_count": 38,
   "id": "98167d2b",
   "metadata": {},
   "outputs": [],
   "source": [
    "with open('optimal_guess_after_lares.bin', 'wb') as f:\n",
    "    pickle.dump(optimal_guess, f)"
   ]
  },
  {
   "cell_type": "code",
   "execution_count": null,
   "id": "3b0da2fe",
   "metadata": {},
   "outputs": [],
   "source": []
  }
 ],
 "metadata": {
  "kernelspec": {
   "display_name": "Python 3",
   "language": "python",
   "name": "python3"
  },
  "language_info": {
   "codemirror_mode": {
    "name": "ipython",
    "version": 3
   },
   "file_extension": ".py",
   "mimetype": "text/x-python",
   "name": "python",
   "nbconvert_exporter": "python",
   "pygments_lexer": "ipython3",
   "version": "3.6.13"
  }
 },
 "nbformat": 4,
 "nbformat_minor": 5
}
